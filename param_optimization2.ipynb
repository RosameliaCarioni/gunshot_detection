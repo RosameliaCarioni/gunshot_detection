{
 "cells": [
  {
   "cell_type": "code",
   "execution_count": 1,
   "metadata": {},
   "outputs": [
    {
     "name": "stderr",
     "output_type": "stream",
     "text": [
      "/Users/rosameliacarioni/miniconda3/envs/bach_thesis_4/lib/python3.9/site-packages/tensorflow_io-0.32.0-py3.9-macosx-11.0-arm64.egg/tensorflow_io/python/ops/__init__.py:98: UserWarning: unable to load libtensorflow_io_plugins.so: unable to open file: libtensorflow_io_plugins.so, from paths: ['/Users/rosameliacarioni/miniconda3/envs/bach_thesis_4/lib/python3.9/site-packages/tensorflow_io-0.32.0-py3.9-macosx-11.0-arm64.egg/tensorflow_io/python/ops/libtensorflow_io_plugins.so']\n",
      "caused by: [\"[Errno 2] The file to load file system plugin from does not exist.: '/Users/rosameliacarioni/miniconda3/envs/bach_thesis_4/lib/python3.9/site-packages/tensorflow_io-0.32.0-py3.9-macosx-11.0-arm64.egg/tensorflow_io/python/ops/libtensorflow_io_plugins.so'\"]\n",
      "  warnings.warn(f\"unable to load libtensorflow_io_plugins.so: {e}\")\n",
      "/Users/rosameliacarioni/miniconda3/envs/bach_thesis_4/lib/python3.9/site-packages/tensorflow_io-0.32.0-py3.9-macosx-11.0-arm64.egg/tensorflow_io/python/ops/__init__.py:104: UserWarning: file system plugins are not loaded: unable to open file: libtensorflow_io.so, from paths: ['/Users/rosameliacarioni/miniconda3/envs/bach_thesis_4/lib/python3.9/site-packages/tensorflow_io-0.32.0-py3.9-macosx-11.0-arm64.egg/tensorflow_io/python/ops/libtensorflow_io.so']\n",
      "caused by: [\"dlopen(/Users/rosameliacarioni/miniconda3/envs/bach_thesis_4/lib/python3.9/site-packages/tensorflow_io-0.32.0-py3.9-macosx-11.0-arm64.egg/tensorflow_io/python/ops/libtensorflow_io.so, 0x0006): tried: '/Users/rosameliacarioni/miniconda3/envs/bach_thesis_4/lib/python3.9/site-packages/tensorflow_io-0.32.0-py3.9-macosx-11.0-arm64.egg/tensorflow_io/python/ops/libtensorflow_io.so' (no such file)\"]\n",
      "  warnings.warn(f\"file system plugins are not loaded: {e}\")\n"
     ]
    }
   ],
   "source": [
    "from tensorflow import keras\n",
    "from tensorflow.keras import layers\n",
    "from tensorflow.keras.models import Sequential\n",
    "import keras_tuner\n",
    "import tensorflow as tf\n",
    "import matplotlib.pyplot as plt\n",
    "import os \n",
    "import numpy as np\n",
    "from tensorflow import keras\n",
    "import seaborn as sns\n",
    "from sklearn.model_selection import StratifiedKFold\n",
    "from sklearn.model_selection import train_test_split\n",
    "from sklearn.metrics import precision_recall_fscore_support"
   ]
  },
  {
   "attachments": {},
   "cell_type": "markdown",
   "metadata": {},
   "source": [
    "# After model was obtained with param optimization, we need to train it: "
   ]
  },
  {
   "attachments": {},
   "cell_type": "markdown",
   "metadata": {},
   "source": [
    "## 9. Evaluate it's performance by doing k-Fold Cross Validation and improve the weights from the model \n",
    "https://machinelearningmastery.com/evaluate-performance-deep-learning-models-keras/ <br>\n",
    "https://repository.tudelft.nl/islandora/object/uuid%3A6f4f3def-f8e0-4820-8b4f-75b0254dadcd <br>\n",
    "https://stackoverflow.com/questions/50997928/typeerror-only-integer-scalar-arrays-can-be-converted-to-a-scalar-index-with-1d\n"
   ]
  },
  {
   "cell_type": "code",
   "execution_count": null,
   "metadata": {},
   "outputs": [],
   "source": [
    "epoch = 2 #15\n",
    "batch = 8\n",
    "splits = 2 #10\n",
    "\n",
    "location = 'data/models'\n",
    "\n",
    "model = keras.models.load_model(location)\n",
    "kfold = StratifiedKFold(n_splits=splits, shuffle=True, random_state=123)\n",
    "acc_scores = [] # of test data \n",
    "histories = []\n",
    "confusion_matrices = []\n",
    "precision_test = []\n",
    "recall_test = []\n",
    "F1_test = []\n",
    "precision_train = []\n",
    "recall_train = []\n",
    "F1_train = [] "
   ]
  },
  {
   "cell_type": "code",
   "execution_count": null,
   "metadata": {},
   "outputs": [],
   "source": [
    "\n",
    "for train, test in kfold.split(x, y):\n",
    "    # 3. Fit the model\n",
    "    x_train = np.array(x)[train.astype(int)]\n",
    "    y_train = np.array(y)[train.astype(int)]\n",
    "    x_test = np.array(x)[test.astype(int)]\n",
    "    y_test = np.array(y)[test.astype(int)]\n",
    "    \n",
    "    hist = model.fit(x_train, y_train, epochs=epoch, batch_size=batch, verbose=0, validation_data = (x_test, y_test), callbacks=[stop_early])\n",
    "    \n",
    "    # Save information about model \n",
    "    histories.append(hist)\n",
    "    \n",
    "    # Display accuracy of validation set \n",
    "    # hist.history returns all the metrics. By adding: ['val_accuracy'][-1] we get only the accuracy of the testing set at the last epoch\n",
    "    print(\"%s: %.2f%%\" % (model.metrics_names[1], hist.history['val_accuracy'][-1] *100))\n",
    "    acc_scores.append(hist.history['val_accuracy'][-1] * 100)\n",
    "\n",
    "    # Store confusion matrix \n",
    "    y_pred = model.predict(x_test)\n",
    "    y_pred = [1 if prediction > 0.5 else 0 for prediction in y_pred]\n",
    "    confusion_mtx = tf.math.confusion_matrix(y_test, y_pred)\n",
    "    confusion_matrices.append(confusion_mtx) \n",
    "\n",
    "    # Store precision, recall and F1 for testing=validation data \n",
    "    precision_temp, recall_temp, f1_score, _ = precision_recall_fscore_support(y_test, y_pred, average='binary')\n",
    "    precision_test.append(precision_temp)\n",
    "    recall_test.append(recall_temp)\n",
    "    F1_test.append(f1_score)\n",
    "\n",
    "    # Store precision, recall and F1 for train data\n",
    "    y_pred = model.predict(x_train)\n",
    "    y_pred = [1 if prediction > 0.5 else 0 for prediction in y_pred]\n",
    "\n",
    "    precision_temp, recall_temp, f1_score, _ = precision_recall_fscore_support(y_train, y_pred, average='binary')\n",
    "    precision_train.append(precision_temp)\n",
    "    recall_train.append(recall_temp)\n",
    "    F1_train.append(f1_score)\n",
    "\n",
    "print(\"%.2f%% (+/- %.2f%%)\" % (np.mean(acc_scores), np.std(acc_scores)))"
   ]
  },
  {
   "cell_type": "markdown",
   "metadata": {},
   "source": [
    "## 10. Confusion Matrix \n",
    "https://www.tensorflow.org/tutorials/audio/simple_audio"
   ]
  },
  {
   "cell_type": "code",
   "execution_count": null,
   "metadata": {},
   "outputs": [],
   "source": [
    "mean_matrix = np.mean(confusion_matrices, axis=0)"
   ]
  },
  {
   "cell_type": "code",
   "execution_count": null,
   "metadata": {},
   "outputs": [],
   "source": [
    "label_names = ['Gunshot' ,'No gunshot']\n",
    "plt.figure(figsize=(10, 8))\n",
    "sns.heatmap(mean_matrix,\n",
    "            xticklabels=label_names,\n",
    "            yticklabels=label_names,\n",
    "            annot=True, fmt='g')\n",
    "plt.xlabel('Predicted label')\n",
    "plt.ylabel('True label')\n",
    "plt.title('Cunfusion matrix: original data')\n",
    "plt.savefig('confusion_matrix_original_data.png')\n",
    "plt.show()\n"
   ]
  },
  {
   "cell_type": "markdown",
   "metadata": {},
   "source": [
    "## 11. Display and save graphs of other metrics"
   ]
  },
  {
   "cell_type": "markdown",
   "metadata": {},
   "source": [
    "Obtain the mean of all different k-folds "
   ]
  },
  {
   "cell_type": "code",
   "execution_count": null,
   "metadata": {},
   "outputs": [],
   "source": [
    "list_loss = []\n",
    "list_val_loss = []\n",
    "\n",
    "list_accuracy = []\n",
    "list_val_accuracy = []\n",
    "\n",
    "for i in range(epoch):\n",
    "    temp_loss = [ hist.history['loss'][i] for hist in histories ]\n",
    "    list_loss.append(np.mean(temp_loss))\n",
    "    temp_val_loss = [ hist.history['val_loss'][i] for hist in histories ]\n",
    "    list_val_loss.append(np.mean(temp_val_loss))\n",
    "\n",
    "    temp_accuracy = [ hist.history['accuracy'][i] for hist in histories ]\n",
    "    list_accuracy.append(np.mean(temp_accuracy))\n",
    "    temp_val_accuracy = [ hist.history['val_accuracy'][i] for hist in histories ]\n",
    "    list_val_accuracy.append(np.mean(temp_val_accuracy))\n",
    "\n"
   ]
  },
  {
   "cell_type": "code",
   "execution_count": null,
   "metadata": {},
   "outputs": [],
   "source": [
    "plt.title('Loss: original data')\n",
    "plt.plot(list_loss, 'r')\n",
    "plt.plot(list_val_loss, 'b')\n",
    "plt.xlabel('Epoch')\n",
    "plt.ylabel('Loss')\n",
    "plt.legend(['train', 'test'])\n",
    "plt.grid()\n",
    "#plt.savefig('loss_original_data.png')\n",
    "plt.show()"
   ]
  },
  {
   "cell_type": "code",
   "execution_count": null,
   "metadata": {},
   "outputs": [],
   "source": [
    "plt.title('Accuracy: original data')\n",
    "plt.plot(list_accuracy, 'r')\n",
    "plt.plot(list_val_accuracy, 'b')\n",
    "plt.xlabel('Epoch')\n",
    "plt.ylabel('Accuracy')\n",
    "plt.legend(['train', 'test'])\n",
    "plt.grid()\n",
    "#plt.savefig('accuracy_original_data.png')\n",
    "plt.show()"
   ]
  }
 ],
 "metadata": {
  "kernelspec": {
   "display_name": "bach_thesis_4",
   "language": "python",
   "name": "python3"
  },
  "language_info": {
   "codemirror_mode": {
    "name": "ipython",
    "version": 3
   },
   "file_extension": ".py",
   "mimetype": "text/x-python",
   "name": "python",
   "nbconvert_exporter": "python",
   "pygments_lexer": "ipython3",
   "version": "3.9.16"
  },
  "orig_nbformat": 4
 },
 "nbformat": 4,
 "nbformat_minor": 2
}
