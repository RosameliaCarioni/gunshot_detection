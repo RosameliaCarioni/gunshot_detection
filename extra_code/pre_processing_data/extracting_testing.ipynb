{
 "cells": [
  {
   "cell_type": "code",
   "execution_count": null,
   "metadata": {},
   "outputs": [],
   "source": [
    "import pandas as pd\n",
    "import wave\n",
    "from scipy.signal import butter, filtfilt, lfilter\n",
    "import soundfile as sf\n",
    "import matplotlib.pyplot as plt\n",
    "from scipy import signal\n",
    "import numpy as np\n",
    "import scipy.io.wavfile as wavfile\n",
    "import librosa, librosa.display\n",
    "import noisereduce as nr\n",
    "from scipy.interpolate import interp1d\n",
    "from matplotlib import mlab\n",
    "import os\n",
    "import tensorflow as tf\n",
    "from pydub import AudioSegment\n"
   ]
  },
  {
   "cell_type": "code",
   "execution_count": null,
   "metadata": {},
   "outputs": [],
   "source": []
  }
 ],
 "metadata": {
  "language_info": {
   "name": "python"
  },
  "orig_nbformat": 4
 },
 "nbformat": 4,
 "nbformat_minor": 2
}
