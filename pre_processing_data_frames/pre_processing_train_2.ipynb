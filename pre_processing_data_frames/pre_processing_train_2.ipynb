{
 "cells": [
  {
   "cell_type": "code",
   "execution_count": 12,
   "metadata": {
    "collapsed": true
   },
   "outputs": [],
   "source": [
    "import pandas as pd\n",
    "import wave\n",
    "import numpy as np\n",
    "import matplotlib.pyplot as plt\n"
   ]
  },
  {
   "cell_type": "markdown",
   "metadata": {
    "collapsed": false
   },
   "source": [
    "# 2. Find sampling rate + number samples + number channels and save information in df"
   ]
  },
  {
   "cell_type": "code",
   "execution_count": 13,
   "metadata": {
    "collapsed": false
   },
   "outputs": [],
   "source": [
    "other = pd.read_csv('data_frames/ecoGuns_SST_Guns_Training-OtherSounds.csv')\n",
    "ecoguns = pd.read_csv('data_frames/Guns_Training_ecoGuns_SST.csv')\n",
    "pnn = pd.read_csv('data_frames/nn_Grid50_guns_dep1-7_Guns_Training.csv')\n"
   ]
  },
  {
   "cell_type": "code",
   "execution_count": 14,
   "metadata": {
    "collapsed": false
   },
   "outputs": [],
   "source": [
    "def sampling_rate_and_number_samples_channels (instance_of_df):\n",
    "    clip_location = instance_of_df['Clip Location']\n",
    "    temp = wave.open(clip_location, 'rb') # rb : read and write to that file\n",
    "    sample_rate = temp.getframerate() # returns sampling frequency = how many samples per second\n",
    "    number_samples = temp.getnframes() # total number of frames in this recording = total number of samples\n",
    "    channel = temp.getnchannels()\n",
    "    return sample_rate, number_samples, channel\n",
    "\n",
    "def sampling_all (df):\n",
    "    df['Sampling Rate/Frequency'], df['Total number of Samples'], df['Channel'] = zip(*df.apply(sampling_rate_and_number_samples_channels, axis = 1))\n"
   ]
  },
  {
   "cell_type": "code",
   "execution_count": 15,
   "metadata": {
    "collapsed": false
   },
   "outputs": [],
   "source": [
    "sampling_all(other)\n",
    "sampling_all(ecoguns)\n",
    "sampling_all(pnn)\n",
    "\n",
    "# update Dfs\n",
    "other.to_csv('data_frames/ecoGuns_SST_Guns_Training-OtherSounds.csv')\n",
    "ecoguns.to_csv('data_frames/Guns_Training_ecoGuns_SST.csv')\n",
    "pnn.to_csv('data_frames/nn_Grid50_guns_dep1-7_Guns_Training.csv')\n"
   ]
  },
  {
   "cell_type": "markdown",
   "metadata": {
    "collapsed": false
   },
   "source": [
    "# 3. Plot time + freq domain\n"
   ]
  },
  {
   "cell_type": "code",
   "execution_count": 18,
   "metadata": {
    "collapsed": false
   },
   "outputs": [],
   "source": [
    "# https://learnpython.com/blog/plot-waveform-in-python/\n",
    "\n",
    "def plot_time (origen_file, destination_file):\n",
    "    wave_object = wave.open(origen_file, 'rb')\n",
    "    channel = wave_object.getnchannels()\n",
    "    n_samples = wave_object.getnframes()\n",
    "    sample_freq = wave_object.getframerate()\n",
    "    t_audio = n_samples/sample_freq\n",
    "    signal_wave = wave_object.readframes(n_samples)\n",
    "    signal_array = np.frombuffer(signal_wave, dtype=np.int16)\n",
    "\n",
    "    if channel !=1:\n",
    "        raise Exception ('Some sample have more than one channel')\n",
    "    times = np.linspace(0, t_audio, num = n_samples)\n",
    "    plt.figure(figsize=(15, 5))\n",
    "    plt.plot(times, signal_array)\n",
    "    plt.title('Audio Wave')\n",
    "    plt.ylabel('Signal Value')\n",
    "    plt.xlabel('Time (s)')\n",
    "    plt.xlim(0, t_audio)\n",
    "    plt.grid()\n",
    "    #plt.savefig(destination_file)\n",
    "    #plt.show()\n",
    "\n",
    "def plot_freq_spectrum (origen_file, destination_file):\n",
    "    wave_object = wave.open(origen_file, 'rb')\n",
    "    channel = wave_object.getnchannels()\n",
    "    n_samples = wave_object.getnframes()\n",
    "    sample_freq = wave_object.getframerate()\n",
    "    t_audio = n_samples/sample_freq\n",
    "    signal_wave = wave_object.readframes(n_samples)\n",
    "    if channel !=1:\n",
    "        raise Exception ('Some sample have more than one channel')\n",
    "    signal_array = np.frombuffer(signal_wave, dtype=np.int16)\n",
    "    plt.figure(figsize=(19, 5))\n",
    "    plt.specgram(signal_array, Fs=sample_freq, vmin=-20, vmax=50)\n",
    "    #plt.specgram(signal_array, Fs=sample_freq, vmin=0, vmax=2)\n",
    "\n",
    "    plt.title('Spectogram')\n",
    "    plt.ylabel('Frequency (Hz)')\n",
    "    plt.xlabel('Time (s)')\n",
    "    plt.xlim(0, t_audio)\n",
    "    plt.colorbar()\n",
    "    #plt.savefig(destination_file)\n",
    "    #plt.show()\n",
    "\n"
   ]
  },
  {
   "cell_type": "code",
   "execution_count": null,
   "metadata": {
    "collapsed": false
   },
   "outputs": [],
   "source": [
    "\n",
    "for i in range (20):\n",
    "    # Pnn\n",
    "    file_name = pnn.iloc[i]['Clip Location']\n",
    "    plot_freq_spectrum(file_name, 'data/Images/gunshot/freq_' + file_name.replace('.wav', '.png').replace('data/Clips/', ''))\n",
    "    plot_time(file_name, 'data/Images/gunshot/time_' + file_name.replace('.wav', '.png').replace('data/Clips/', '' ))\n",
    "    # Ecoguns\n",
    "    file_name = ecoguns.iloc[i]['Clip Location']\n",
    "    plot_freq_spectrum(file_name, 'data/Images/gunshot/freq_' + file_name.replace('.wav', '.png').replace('data/Clips/', ''))\n",
    "    plot_time(file_name, 'data/Images/gunshot/time_' + file_name.replace('.wav', '.png').replace('data/Clips/', '' ))\n",
    "    # Others\n",
    "    file_name = other.iloc[i]['Clip Location']\n",
    "    plot_freq_spectrum(file_name, 'data/Images/no_gunshot/freq_' + file_name.replace('.wav', '.png').replace('data/Clips/', ''))\n",
    "    plot_time(file_name, 'data/Images/no_gunshot/time_' + file_name.replace('.wav', '.png').replace('data/Clips/', '' ))\n"
   ]
  },
  {
   "cell_type": "code",
   "execution_count": null,
   "metadata": {
    "collapsed": false
   },
   "outputs": [],
   "source": []
  }
 ],
 "metadata": {
  "kernelspec": {
   "display_name": "Python 3",
   "language": "python",
   "name": "python3"
  },
  "language_info": {
   "codemirror_mode": {
    "name": "ipython",
    "version": 2
   },
   "file_extension": ".py",
   "mimetype": "text/x-python",
   "name": "python",
   "nbconvert_exporter": "python",
   "pygments_lexer": "ipython2",
   "version": "2.7.6"
  }
 },
 "nbformat": 4,
 "nbformat_minor": 0
}
