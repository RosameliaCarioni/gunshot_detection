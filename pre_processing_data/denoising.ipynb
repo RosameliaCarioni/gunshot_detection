{
 "cells": [
  {
   "cell_type": "code",
   "execution_count": 1,
   "metadata": {},
   "outputs": [
    {
     "name": "stderr",
     "output_type": "stream",
     "text": [
      "/Users/rosameliacarioni/miniconda3/envs/bach_thesis_4/lib/python3.9/site-packages/tqdm/auto.py:21: TqdmWarning: IProgress not found. Please update jupyter and ipywidgets. See https://ipywidgets.readthedocs.io/en/stable/user_install.html\n",
      "  from .autonotebook import tqdm as notebook_tqdm\n",
      "/Users/rosameliacarioni/miniconda3/envs/bach_thesis_4/lib/python3.9/site-packages/tensorflow_io-0.32.0-py3.9-macosx-11.0-arm64.egg/tensorflow_io/python/ops/__init__.py:98: UserWarning: unable to load libtensorflow_io_plugins.so: unable to open file: libtensorflow_io_plugins.so, from paths: ['/Users/rosameliacarioni/miniconda3/envs/bach_thesis_4/lib/python3.9/site-packages/tensorflow_io-0.32.0-py3.9-macosx-11.0-arm64.egg/tensorflow_io/python/ops/libtensorflow_io_plugins.so']\n",
      "caused by: [\"[Errno 2] The file to load file system plugin from does not exist.: '/Users/rosameliacarioni/miniconda3/envs/bach_thesis_4/lib/python3.9/site-packages/tensorflow_io-0.32.0-py3.9-macosx-11.0-arm64.egg/tensorflow_io/python/ops/libtensorflow_io_plugins.so'\"]\n",
      "  warnings.warn(f\"unable to load libtensorflow_io_plugins.so: {e}\")\n",
      "/Users/rosameliacarioni/miniconda3/envs/bach_thesis_4/lib/python3.9/site-packages/tensorflow_io-0.32.0-py3.9-macosx-11.0-arm64.egg/tensorflow_io/python/ops/__init__.py:104: UserWarning: file system plugins are not loaded: unable to open file: libtensorflow_io.so, from paths: ['/Users/rosameliacarioni/miniconda3/envs/bach_thesis_4/lib/python3.9/site-packages/tensorflow_io-0.32.0-py3.9-macosx-11.0-arm64.egg/tensorflow_io/python/ops/libtensorflow_io.so']\n",
      "caused by: [\"dlopen(/Users/rosameliacarioni/miniconda3/envs/bach_thesis_4/lib/python3.9/site-packages/tensorflow_io-0.32.0-py3.9-macosx-11.0-arm64.egg/tensorflow_io/python/ops/libtensorflow_io.so, 0x0006): tried: '/Users/rosameliacarioni/miniconda3/envs/bach_thesis_4/lib/python3.9/site-packages/tensorflow_io-0.32.0-py3.9-macosx-11.0-arm64.egg/tensorflow_io/python/ops/libtensorflow_io.so' (no such file)\"]\n",
      "  warnings.warn(f\"file system plugins are not loaded: {e}\")\n",
      "/Users/rosameliacarioni/miniconda3/envs/bach_thesis_4/lib/python3.9/site-packages/pydub/utils.py:170: RuntimeWarning: Couldn't find ffmpeg or avconv - defaulting to ffmpeg, but may not work\n",
      "  warn(\"Couldn't find ffmpeg or avconv - defaulting to ffmpeg, but may not work\", RuntimeWarning)\n"
     ]
    }
   ],
   "source": [
    "import pandas as pd\n",
    "import wave\n",
    "from scipy.signal import butter, filtfilt, lfilter\n",
    "import soundfile as sf\n",
    "import matplotlib.pyplot as plt\n",
    "from scipy import signal\n",
    "import numpy as np\n",
    "import scipy.io.wavfile as wavfile\n",
    "import librosa, librosa.display\n",
    "import noisereduce as nr\n",
    "from scipy.interpolate import interp1d\n",
    "from matplotlib import mlab\n",
    "import os\n",
    "import tensorflow as tf\n",
    "from pydub import AudioSegment\n"
   ]
  },
  {
   "attachments": {},
   "cell_type": "markdown",
   "metadata": {},
   "source": [
    "# Plots"
   ]
  },
  {
   "cell_type": "code",
   "execution_count": null,
   "metadata": {},
   "outputs": [],
   "source": [
    "def joint_plots (origen_file, destination_file):\n",
    "    # Load audio file and apply FFT\n",
    "    sample_rate, samples = wavfile.read(origen_file)\n",
    "\n",
    "    fft_values = np.fft.fft(samples)\n",
    "    fig = plt.figure(figsize=(10, 12))\n",
    "\n",
    "    # Plot time-domain representation of the audio signal\n",
    "    ax1 = plt.subplot(311)\n",
    "    t = np.arange(len(samples)) / float(sample_rate)\n",
    "    ax1.plot(t, samples)\n",
    "    ax1.set_xlabel('Time (s)')\n",
    "    ax1.set_ylabel('Amplitude')\n",
    "    ax1.set_title('Time-domain representation')\n",
    "    ax1.grid()\n",
    "\n",
    "    # Plot frequency-domain representation of the audio signal: how much each frequency is contributing to overall sound of audio file\n",
    "    ax2 = plt.subplot(312)\n",
    "    ax2.plot(abs(fft_values))\n",
    "    ax2.set_xlabel('Frequency (Hz)')\n",
    "    ax2.set_ylabel('Magnitude')\n",
    "    ax2.set_title('Magnitude spectrum plot: Contribution of each frequency')\n",
    "    ax2.grid()\n",
    "\n",
    "    # Plot spectrogram of the audio signal\n",
    "    ax3 = plt.subplot(313)\n",
    "    t_audio = len(samples)/sample_rate\n",
    "\n",
    "    # Remove DC offset which is the presence of a non-zero mean value in the audio signal, and it can cause a large spike at 0 Hz in the spectrogram\n",
    "    # This was done when mean was removed from samples \n",
    "\n",
    "    ax3.specgram(samples, Fs=sample_rate, vmin=-20, vmax=50)\n",
    "    ax3.set_title('Spectogram')\n",
    "    ax3.set_ylabel('Frequency (Hz)')\n",
    "    ax3.set_xlabel('Time (s)')\n",
    "    ax3.set_xlim(0, t_audio)\n",
    "\n",
    "    # Combine all the plots into a single figure\n",
    "    plt.tight_layout()\n",
    "    plt.savefig(destination_file)\n",
    "    #plt.show()"
   ]
  },
  {
   "attachments": {},
   "cell_type": "markdown",
   "metadata": {},
   "source": [
    "# Denoising: spectral"
   ]
  },
  {
   "cell_type": "code",
   "execution_count": null,
   "metadata": {},
   "outputs": [],
   "source": [
    "def denoise_spectral_gating(file_name):\n",
    "    rate, data = wavfile.read(file_name)\n",
    "    data = data - data.mean()\n",
    "    # perform noise reduction\\n\",\n",
    "    reduced_noise = nr.reduce_noise(y=data, sr=rate, stationary=True)\n",
    "    return reduced_noise, rate"
   ]
  },
  {
   "cell_type": "code",
   "execution_count": 3,
   "metadata": {},
   "outputs": [],
   "source": [
    "def save_denoised(reduced_noise, rate, destination_file):\n",
    "    # because the denoised clips will be used by tf.audio.decode_wav and this only takes 16-bit files, the denoised audios are saved as int16\n",
    "    # https://stackoverflow.com/questions/64813162/read-wav-file-with-tf-audio-decode-wav\n",
    "    wavfile.write(destination_file, rate, reduced_noise.astype(np.int16)) "
   ]
  },
  {
   "cell_type": "code",
   "execution_count": 2,
   "metadata": {},
   "outputs": [],
   "source": [
    "def apply_denoising(file_name, destination_file):\n",
    "    reduced_noise, rate = denoise_spectral_gating(file_name)\n",
    "    save_denoised(reduced_noise, rate, destination_file)"
   ]
  },
  {
   "attachments": {},
   "cell_type": "markdown",
   "metadata": {},
   "source": [
    "Apply the denoising to all clips and store it"
   ]
  },
  {
   "cell_type": "code",
   "execution_count": null,
   "metadata": {},
   "outputs": [],
   "source": [
    "for file in os.listdir(os.path.join('/Users', 'rosameliacarioni','University','Thesis','code','data', 'Clips')):\n",
    "    if '.wav' in file: \n",
    "        file_name = '/Users/rosameliacarioni/University/Thesis/code/data/Clips/' + file\n",
    "        destination_file = '/Users/rosameliacarioni/University/Thesis/code/data/Clips_denoised/spectral_gating/' + file\n",
    "        apply_denoising(file_name, destination_file)"
   ]
  },
  {
   "cell_type": "code",
   "execution_count": null,
   "metadata": {},
   "outputs": [],
   "source": [
    "for file in os.listdir(os.path.join('/Users', 'rosameliacarioni','University','Thesis','code','data', 'Sounds_background')):\n",
    "    if '.wav' in file: \n",
    "        file_name = '/Users/rosameliacarioni/University/Thesis/code/data/Sounds_background/' + file\n",
    "        destination_file = '/Users/rosameliacarioni/University/Thesis/code/data/Sounds_background_denoised/spectral_gating/' + file\n",
    "        apply_denoising(file_name, destination_file)"
   ]
  },
  {
   "cell_type": "code",
   "execution_count": null,
   "metadata": {},
   "outputs": [],
   "source": [
    "for file in os.listdir(os.path.join('/Users', 'rosameliacarioni','University','Thesis','code','data', 'Sounds_gunshots')):\n",
    "    if '.wav' in file: \n",
    "        file_name = '/Users/rosameliacarioni/University/Thesis/code/data/Sounds_gunshots/' + file\n",
    "        destination_file = '/Users/rosameliacarioni/University/Thesis/code/data/Sounds_gunshots_denoised/spectral_gating/' + file\n",
    "        apply_denoising(file_name, destination_file)"
   ]
  },
  {
   "attachments": {},
   "cell_type": "markdown",
   "metadata": {},
   "source": [
    "# Signal differentiation "
   ]
  },
  {
   "cell_type": "code",
   "execution_count": null,
   "metadata": {},
   "outputs": [],
   "source": [
    "def differentiate_signal(file_name): \n",
    "    rate, data = wavfile.read(file_name)\n",
    "    data = data - data.mean() # first center the signal \n",
    "    return np.diff(data), rate "
   ]
  },
  {
   "cell_type": "code",
   "execution_count": null,
   "metadata": {},
   "outputs": [],
   "source": [
    "def apply_differentiation(file_name, destination_file):\n",
    "    differenced, rate = differentiate_signal(file_name)\n",
    "    save_denoised(differenced, rate, destination_file) "
   ]
  },
  {
   "attachments": {},
   "cell_type": "markdown",
   "metadata": {},
   "source": [
    "Lets apply it to the original data and store it "
   ]
  },
  {
   "cell_type": "code",
   "execution_count": null,
   "metadata": {},
   "outputs": [],
   "source": [
    "for file in os.listdir(os.path.join('/Users', 'rosameliacarioni','University','Thesis','code','data', 'Clips')):\n",
    "    if '.wav' in file: \n",
    "        file_name = '/Users/rosameliacarioni/University/Thesis/code/data/Clips/' + file\n",
    "        destination_file = '/Users/rosameliacarioni/University/Thesis/code/data/Clips_denoised/differentiation/' + file\n",
    "        apply_differentiation(file_name, destination_file)"
   ]
  },
  {
   "cell_type": "code",
   "execution_count": null,
   "metadata": {},
   "outputs": [],
   "source": [
    "for file in os.listdir(os.path.join('/Users', 'rosameliacarioni','University','Thesis','code','data', 'Sounds_background')):\n",
    "    if '.wav' in file: \n",
    "        file_name = '/Users/rosameliacarioni/University/Thesis/code/data/Sounds_background/' + file\n",
    "        destination_file = '/Users/rosameliacarioni/University/Thesis/code/data/Sounds_background_denoised/differentiation/' + file\n",
    "        apply_differentiation(file_name, destination_file)"
   ]
  },
  {
   "cell_type": "code",
   "execution_count": null,
   "metadata": {},
   "outputs": [],
   "source": [
    "for file in os.listdir(os.path.join('/Users', 'rosameliacarioni','University','Thesis','code','data', 'Sounds_gunshots')):\n",
    "    if '.wav' in file: \n",
    "        file_name = '/Users/rosameliacarioni/University/Thesis/code/data/Sounds_gunshots/' + file\n",
    "        destination_file = '/Users/rosameliacarioni/University/Thesis/code/data/Sounds_gunshots_denoised/differentiation/' + file\n",
    "        apply_differentiation(file_name, destination_file)"
   ]
  },
  {
   "attachments": {},
   "cell_type": "markdown",
   "metadata": {},
   "source": [
    "# Denoising: band pass \n",
    "https://dsp.stackexchange.com/questions/56604/bandpass-filter-for-audio-wav-file"
   ]
  },
  {
   "cell_type": "code",
   "execution_count": 5,
   "metadata": {},
   "outputs": [],
   "source": [
    "def butter_bandpass(lowcut, highcut, fs, order=5):\n",
    "    nyq = 0.5 * fs\n",
    "    low = lowcut / nyq\n",
    "    high = highcut / nyq\n",
    "    b, a = butter(order, [low, high], btype='band', analog=False)\n",
    "    return b, a"
   ]
  },
  {
   "cell_type": "code",
   "execution_count": 6,
   "metadata": {},
   "outputs": [],
   "source": [
    "def apply_bandpass_filter(data, lowcut_freq, highcut_freq, sample_rate, filter_order):\n",
    "    b, a = butter_bandpass(lowcut_freq, highcut_freq, sample_rate, filter_order)\n",
    "    filtered_data = filtfilt(b, a, data)\n",
    "    return filtered_data"
   ]
  },
  {
   "cell_type": "code",
   "execution_count": 7,
   "metadata": {},
   "outputs": [],
   "source": [
    "def band_pass_filter(lowcut_freq, highcut_freq, file_name):\n",
    "    sample_rate, wave = wavfile.read(file_name)\n",
    "    # the cutoff freqs are in Hz\n",
    "    # Define filter parameters\n",
    "    filter_order = 4\n",
    "    # Apply bandpass filter\n",
    "    filtered_data = apply_bandpass_filter(wave, lowcut_freq, highcut_freq, sample_rate, filter_order)\n",
    "    return filtered_data, sample_rate "
   ]
  },
  {
   "attachments": {},
   "cell_type": "markdown",
   "metadata": {},
   "source": [
    "Save the denoised data to be used on experiments "
   ]
  },
  {
   "cell_type": "code",
   "execution_count": 10,
   "metadata": {},
   "outputs": [],
   "source": [
    "for file in os.listdir(os.path.join('/Users', 'rosameliacarioni','University','Thesis','code','data', 'Clips_denoised', 'differentiation')):\n",
    "    if '.wav' in file: \n",
    "        file_name = '/Users/rosameliacarioni/University/Thesis/code/data/Clips_denoised/differentiation/' + file\n",
    "        destination_file = '/Users/rosameliacarioni/University/Thesis/code/data/Clips_denoised/bandpass_0_500/' + file\n",
    "        filter_data, sample_rate =  band_pass_filter(0.1, 500, file_name)\n",
    "        save_denoised(filter_data, sample_rate, destination_file)\n",
    "\n",
    "# TODO: continue "
   ]
  },
  {
   "cell_type": "code",
   "execution_count": null,
   "metadata": {},
   "outputs": [],
   "source": []
  },
  {
   "cell_type": "code",
   "execution_count": null,
   "metadata": {},
   "outputs": [],
   "source": []
  },
  {
   "attachments": {},
   "cell_type": "markdown",
   "metadata": {},
   "source": [
    "# Now, let's check if the denoising is effective for clips that are shorther than 1 second\n"
   ]
  },
  {
   "cell_type": "code",
   "execution_count": null,
   "metadata": {},
   "outputs": [],
   "source": [
    "def load_data(file_name):\n",
    "    file_contents = tf.io.read_file(file_name) #retuns a string\n",
    "    wave, sample_rate = tf.audio.decode_wav(file_contents, desired_channels=1) # transforms string into actual wav\\n\",\n",
    "    wave = wave - tf.reduce_mean(wave) # remove the mean\n",
    "    wave = tf.squeeze(wave, axis= -1) #removes axis\n",
    "    wave = tf.cast(wave * 32768, tf.float32) # converting to int16\n",
    "\n",
    "    return wave, sample_rate"
   ]
  },
  {
   "cell_type": "code",
   "execution_count": null,
   "metadata": {},
   "outputs": [],
   "source": [
    "lengths = []\n",
    "paths_smaller_1 = [] #145\n",
    "paths_smaller_2 = [] # 329\\n\",\n",
    "paths_smaller_3 = [] # 192\\n\",\n",
    "paths_greater_10 = [] # 38\\n\",\n",
    "counter = 0"
   ]
  },
  {
   "cell_type": "code",
   "execution_count": null,
   "metadata": {},
   "outputs": [],
   "source": [
    "for file in os.listdir(os.path.join('/Users', 'rosameliacarioni','University','Thesis','code', 'data', 'Clips')):\n",
    "    tensor_wave, sample_rate = load_data(os.path.join('/Users', 'rosameliacarioni','University','Thesis','code','data', 'Clips', file))\n",
    "    if len(tensor_wave)< 1*8000: \n",
    "        paths_smaller_1.append(file)\n",
    "    elif len(tensor_wave)< 2*8000:\n",
    "        paths_smaller_2.append(file)\n",
    "    elif len(tensor_wave)< 3*8000:\n",
    "        paths_smaller_3.append(file)\n",
    "    elif len(tensor_wave)> 10*8000:\n",
    "        paths_greater_10.append(file)\n",
    "    lengths.append(len(tensor_wave))"
   ]
  },
  {
   "attachments": {},
   "cell_type": "markdown",
   "metadata": {},
   "source": [
    "## Inspecting spectograms to find out best cut off points for band pass filter  "
   ]
  },
  {
   "cell_type": "code",
   "execution_count": null,
   "metadata": {},
   "outputs": [],
   "source": [
    "path_directory = os.listdir(os.path.join('/Users', 'rosameliacarioni','University','Thesis','code','data', 'Clips_denoised', 'differentiation'))\n",
    "for file in path_directory[::5]:\n",
    "    if '.wav' in file: \n",
    "        file_name = '/Users/rosameliacarioni/University/Thesis/code/data/Clips_denoised/differentiation/' + file\n",
    "        destination_file = '/Users/rosameliacarioni/University/Thesis/code/data/Images/denoised/differentiation/' + file.replace('.wav', '.jpg')\n",
    "        joint_plots (file_name, destination_file)\n",
    "   "
   ]
  },
  {
   "cell_type": "code",
   "execution_count": null,
   "metadata": {},
   "outputs": [],
   "source": [
    "path_directory = os.listdir(os.path.join('/Users', 'rosameliacarioni','University','Thesis','code','data', 'Sounds_background_denoised', 'differentiation'))\n",
    "for file in path_directory[::10]:\n",
    "    if '.wav' in file: \n",
    "        file_name = '/Users/rosameliacarioni/University/Thesis/code/data/Sounds_background_denoised/differentiation/' + file\n",
    "        destination_file = '/Users/rosameliacarioni/University/Thesis/code/data/Images/denoised/differentiation/' + file.replace('.wav', '.jpg')\n",
    "        joint_plots (file_name, destination_file)\n",
    "   "
   ]
  },
  {
   "cell_type": "code",
   "execution_count": null,
   "metadata": {},
   "outputs": [],
   "source": [
    "path_directory = os.listdir(os.path.join('/Users', 'rosameliacarioni','University','Thesis','code','data', 'Sounds_gunshots_denoised', 'differentiation'))\n",
    "for file in path_directory[::10]:\n",
    "    if '.wav' in file: \n",
    "        file_name = '/Users/rosameliacarioni/University/Thesis/code/data/Sounds_gunshots_denoised/differentiation/' + file\n",
    "        destination_file = '/Users/rosameliacarioni/University/Thesis/code/data/Images/denoised/differentiation/' + file.replace('.wav', '.jpg')\n",
    "        joint_plots (file_name, destination_file)\n",
    "   "
   ]
  }
 ],
 "metadata": {
  "kernelspec": {
   "display_name": "bach_thesis_4",
   "language": "python",
   "name": "python3"
  },
  "language_info": {
   "codemirror_mode": {
    "name": "ipython",
    "version": 3
   },
   "file_extension": ".py",
   "mimetype": "text/x-python",
   "name": "python",
   "nbconvert_exporter": "python",
   "pygments_lexer": "ipython3",
   "version": "3.9.16"
  },
  "orig_nbformat": 4
 },
 "nbformat": 4,
 "nbformat_minor": 2
}
